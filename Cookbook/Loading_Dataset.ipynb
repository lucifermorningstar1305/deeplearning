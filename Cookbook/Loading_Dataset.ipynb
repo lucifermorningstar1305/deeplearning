{
 "cells": [
  {
   "cell_type": "code",
   "execution_count": 3,
   "metadata": {},
   "outputs": [
    {
     "data": {
      "text/plain": [
       "array([ 0.,  0.,  5., 13.,  9.,  1.,  0.,  0.,  0.,  0., 13., 15., 10.,\n",
       "       15.,  5.,  0.,  0.,  3., 15.,  2.,  0., 11.,  8.,  0.,  0.,  4.,\n",
       "       12.,  0.,  0.,  8.,  8.,  0.,  0.,  5.,  8.,  0.,  0.,  9.,  8.,\n",
       "        0.,  0.,  4., 11.,  0.,  1., 12.,  7.,  0.,  0.,  2., 14.,  5.,\n",
       "       10., 12.,  0.,  0.,  0.,  0.,  6., 13., 10.,  0.,  0.,  0.])"
      ]
     },
     "execution_count": 3,
     "metadata": {},
     "output_type": "execute_result"
    }
   ],
   "source": [
    "# Load scikit-learns dataset\n",
    "from sklearn import datasets\n",
    "# Load digits dataset\n",
    "digits = datasets.load_digits()\n",
    "\n",
    "# Get the feature maps\n",
    "features = digits.data\n",
    "\n",
    "# Get the targets\n",
    "target = digits.target\n",
    "\n",
    "# View first set of observations\n",
    "features[0]"
   ]
  },
  {
   "cell_type": "markdown",
   "metadata": {},
   "source": [
    "# Creating Simulated Data"
   ]
  },
  {
   "cell_type": "code",
   "execution_count": 4,
   "metadata": {},
   "outputs": [
    {
     "name": "stdout",
     "output_type": "stream",
     "text": [
      "Feature Matrix\n",
      " [[ 1.29322588 -0.61736206 -0.11044703]\n",
      " [-2.793085    0.36633201  1.93752881]\n",
      " [ 0.80186103 -0.18656977  0.0465673 ]]\n",
      "Target Matrix\n",
      " [-10.37865986  25.5124503   19.67705609]\n"
     ]
    }
   ],
   "source": [
    "# For linear regression\n",
    "from sklearn.datasets import make_regression\n",
    "\n",
    "features, target, coefficients = make_regression(n_samples = 100,\n",
    "                                                n_features = 3, \n",
    "                                                n_informative = 3,\n",
    "                                                n_targets = 1,\n",
    "                                                noise = 0.0,\n",
    "                                                coef = True,\n",
    "                                                random_state = 1)\n",
    "print('Feature Matrix\\n', features[:3])\n",
    "print('Target Matrix\\n',target[:3])"
   ]
  },
  {
   "cell_type": "code",
   "execution_count": 5,
   "metadata": {},
   "outputs": [
    {
     "name": "stdout",
     "output_type": "stream",
     "text": [
      "Feature Matrix\n",
      " [[ 1.06354768 -1.42632219  1.02163151]\n",
      " [ 0.23156977  1.49535261  0.33251578]\n",
      " [ 0.15972951  0.83533515 -0.40869554]]\n",
      "Target Matrix\n",
      " [1 0 0]\n"
     ]
    }
   ],
   "source": [
    "# For classification \n",
    "from sklearn.datasets import make_classification\n",
    "\n",
    "features, target = make_classification(n_samples = 100, \n",
    "                                      n_features = 3, \n",
    "                                      n_informative = 3, \n",
    "                                      n_redundant = 0, \n",
    "                                      n_classes = 2,\n",
    "                                      weights = [.25, .75],\n",
    "                                      random_state = 1)\n",
    "print('Feature Matrix\\n',features[:3])\n",
    "print('Target Matrix\\n',target[:3])"
   ]
  },
  {
   "cell_type": "code",
   "execution_count": 6,
   "metadata": {},
   "outputs": [
    {
     "name": "stdout",
     "output_type": "stream",
     "text": [
      "Feature Matrix\n",
      " [[ -1.22685609   3.25572052]\n",
      " [ -9.57463218  -4.38310652]\n",
      " [-10.71976941  -4.20558148]]\n",
      "Target Matrix\n",
      " [0 1 1]\n"
     ]
    }
   ],
   "source": [
    "# For clustering \n",
    "from sklearn.datasets import make_blobs\n",
    "\n",
    "features, target = make_blobs(n_samples = 100,\n",
    "                             n_features = 2,\n",
    "                             centers = 3, \n",
    "                             cluster_std = 0.5,\n",
    "                             shuffle = True,\n",
    "                             random_state = 1)\n",
    "\n",
    "print('Feature Matrix\\n',features[:3])\n",
    "print('Target Matrix\\n',target[:3])"
   ]
  },
  {
   "cell_type": "code",
   "execution_count": null,
   "metadata": {},
   "outputs": [],
   "source": []
  }
 ],
 "metadata": {
  "kernelspec": {
   "display_name": "Python 3",
   "language": "python",
   "name": "python3"
  },
  "language_info": {
   "codemirror_mode": {
    "name": "ipython",
    "version": 3
   },
   "file_extension": ".py",
   "mimetype": "text/x-python",
   "name": "python",
   "nbconvert_exporter": "python",
   "pygments_lexer": "ipython3",
   "version": "3.7.5"
  }
 },
 "nbformat": 4,
 "nbformat_minor": 4
}
