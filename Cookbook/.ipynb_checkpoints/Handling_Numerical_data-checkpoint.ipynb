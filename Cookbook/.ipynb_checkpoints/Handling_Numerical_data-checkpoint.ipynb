{
 "cells": [
  {
   "cell_type": "code",
   "execution_count": 1,
   "metadata": {},
   "outputs": [
    {
     "name": "stdout",
     "output_type": "stream",
     "text": [
      "Features\n",
      " [[ 1.29322588 -0.61736206 -0.11044703]\n",
      " [-2.793085    0.36633201  1.93752881]\n",
      " [ 0.80186103 -0.18656977  0.0465673 ]\n",
      " [ 0.12910158  0.50274088  1.6169496 ]]\n"
     ]
    }
   ],
   "source": [
    "import numpy as np\n",
    "from sklearn import preprocessing\n",
    "from sklearn import datasets \n",
    "\n",
    "features, targets = datasets.make_regression(n_samples = 100,\n",
    "                                            n_features = 3, \n",
    "                                            n_informative = 3,\n",
    "                                            n_targets = 1,\n",
    "                                            noise = 0.0,\n",
    "                                            coef = False, \n",
    "                                            random_state = 1)\n",
    "\n",
    "print('Features\\n', features[:4])"
   ]
  },
  {
   "cell_type": "code",
   "execution_count": 2,
   "metadata": {},
   "outputs": [
    {
     "data": {
      "text/plain": [
       "array([[0.77946533, 0.37533626, 0.46832847],\n",
       "       [0.        , 0.59456271, 0.88096364],\n",
       "       [0.6857373 , 0.4713428 , 0.4999644 ],\n",
       "       [0.55740819, 0.62496284, 0.81637193]])"
      ]
     },
     "execution_count": 2,
     "metadata": {},
     "output_type": "execute_result"
    }
   ],
   "source": [
    "# Min Max Scaling\n",
    "minmax_scaler = preprocessing.MinMaxScaler(feature_range=(0,1))\n",
    "scaled_feature = minmax_scaler.fit_transform(features)\n",
    "scaled_feature[:4]"
   ]
  },
  {
   "cell_type": "code",
   "execution_count": 3,
   "metadata": {},
   "outputs": [
    {
     "data": {
      "text/plain": [
       "array([[ 1.2770548 , -0.81821179, -0.21248228],\n",
       "       [-2.81488465,  0.27548689,  1.99459418],\n",
       "       [ 0.78501313, -0.33924483, -0.04327002],\n",
       "       [ 0.11132701,  0.4271501 ,  1.6491102 ]])"
      ]
     },
     "execution_count": 3,
     "metadata": {},
     "output_type": "execute_result"
    }
   ],
   "source": [
    "# Standarizing a Feature\n",
    "standard_scaler = preprocessing.StandardScaler()\n",
    "standarized_feature = standard_scaler.fit_transform(features)\n",
    "standarized_feature[:4]"
   ]
  },
  {
   "cell_type": "code",
   "execution_count": 4,
   "metadata": {},
   "outputs": [
    {
     "data": {
      "text/plain": [
       "array([[ 0.92989139, -0.59759549, -0.19905129],\n",
       "       [-2.02848916,  0.23108285,  1.56673201],\n",
       "       [ 0.57415628, -0.23468974, -0.06367212],\n",
       "       [ 0.08709631,  0.34599568,  1.29032571]])"
      ]
     },
     "execution_count": 4,
     "metadata": {},
     "output_type": "execute_result"
    }
   ],
   "source": [
    "# If there are outliers present in our dataset then we go for Robust Scaler\n",
    "robust_scaler = preprocessing.RobustScaler()\n",
    "robustscaled_feature = robust_scaler.fit_transform(features)\n",
    "robustscaled_feature[:4]"
   ]
  },
  {
   "cell_type": "code",
   "execution_count": 5,
   "metadata": {},
   "outputs": [
    {
     "data": {
      "text/plain": [
       "array([[ 0.89977444, -0.42953564, -0.07684459],\n",
       "       [-0.81693109,  0.10714605,  0.56669508],\n",
       "       [ 0.97242943, -0.22625608,  0.05647289],\n",
       "       [ 0.07602183,  0.29604039,  0.95214535]])"
      ]
     },
     "execution_count": 5,
     "metadata": {},
     "output_type": "execute_result"
    }
   ],
   "source": [
    "# If you want to rescale the feature values of observations to have unit norm\n",
    "normalize_scaler = preprocessing.Normalizer(norm=\"l2\")\n",
    "normalized_features = normalize_scaler.fit_transform(features)\n",
    "normalized_features[:4]\n",
    "\n",
    "# This method rescales the data on individual observation unlike StandardScaler and MinMaxScaler\n",
    "#This type of rescaling is often used when we have many equivalent features (e.g., text classification when every word or n-word group is a feature)."
   ]
  },
  {
   "cell_type": "code",
   "execution_count": 6,
   "metadata": {},
   "outputs": [
    {
     "data": {
      "text/plain": [
       "array([[ 1.29322588e+00, -6.17362064e-01, -1.10447026e-01,\n",
       "         1.67243318e+00, -7.98388600e-01, -1.42832953e-01,\n",
       "         3.81135918e-01,  6.81858042e-02,  1.21985456e-02],\n",
       "       [-2.79308500e+00,  3.66332015e-01,  1.93752881e+00,\n",
       "         7.80132382e+00, -1.02319645e+00, -5.41168267e+00,\n",
       "         1.34199145e-01,  7.09778834e-01,  3.75401790e+00],\n",
       "       [ 8.01861032e-01, -1.86569772e-01,  4.65672984e-02,\n",
       "         6.42981114e-01, -1.49603030e-01,  3.73405020e-02,\n",
       "         3.48082798e-02, -8.68805025e-03,  2.16851328e-03],\n",
       "       [ 1.29101580e-01,  5.02740882e-01,  1.61694960e+00,\n",
       "         1.66672179e-02,  6.49046421e-02,  2.08750748e-01,\n",
       "         2.52748394e-01,  8.12906667e-01,  2.61452601e+00]])"
      ]
     },
     "execution_count": 6,
     "metadata": {},
     "output_type": "execute_result"
    }
   ],
   "source": [
    "# If you want to create polynomial and interaction features\n",
    "polynomial_scaler = preprocessing.PolynomialFeatures(degree=2, include_bias=False)\n",
    "polynomial_features = polynomial_scaler.fit_transform(features)\n",
    "polynomial_features[:4]\n",
    "\n",
    "# Polynomial Features are often created when we want to include the notion that there exists a nonlinear relationship between the features\n",
    "# and the targe."
   ]
  },
  {
   "cell_type": "markdown",
   "metadata": {},
   "source": [
    "# Detecting Outliers\n"
   ]
  },
  {
   "cell_type": "code",
   "execution_count": 7,
   "metadata": {},
   "outputs": [
    {
     "data": {
      "text/plain": [
       "array([-1, -1,  1,  1,  1,  1,  1,  1,  1,  1, -1,  1,  1,  1,  1,  1,  1,\n",
       "        1,  1,  1,  1, -1,  1,  1,  1,  1,  1,  1, -1,  1,  1,  1,  1, -1,\n",
       "       -1,  1,  1,  1,  1,  1,  1,  1,  1,  1,  1,  1,  1, -1,  1,  1,  1,\n",
       "        1,  1,  1,  1,  1,  1,  1,  1,  1, -1,  1,  1,  1,  1,  1,  1,  1,\n",
       "        1,  1,  1,  1,  1,  1,  1,  1,  1,  1,  1,  1,  1,  1,  1,  1,  1,\n",
       "        1,  1,  1,  1,  1,  1,  1,  1,  1, -1,  1,  1,  1,  1,  1])"
      ]
     },
     "execution_count": 7,
     "metadata": {},
     "output_type": "execute_result"
    }
   ],
   "source": [
    "from sklearn.covariance import EllipticEnvelope\n",
    "\n",
    "features[0,0] = 100000\n",
    "features[0,1] = 100000\n",
    "\n",
    "outlier_detector = EllipticEnvelope(contamination=.1)\n",
    "outlier_detector.fit(features)\n",
    "outlier_detector.predict(features)\n",
    "\n",
    "\n",
    "# The problem with the above approach is that we need to be sure that dataset is mostly clean , so that we can define contamination\n",
    "# Another way of detecting outlier is through IQR\n",
    "# http://bit.ly/2FzMC2k please follow this link to get a brief understanding of how to detect outliers"
   ]
  },
  {
   "cell_type": "markdown",
   "metadata": {},
   "source": [
    "# Handling Outliers "
   ]
  },
  {
   "cell_type": "code",
   "execution_count": 8,
   "metadata": {},
   "outputs": [
    {
     "data": {
      "text/html": [
       "<div>\n",
       "<style scoped>\n",
       "    .dataframe tbody tr th:only-of-type {\n",
       "        vertical-align: middle;\n",
       "    }\n",
       "\n",
       "    .dataframe tbody tr th {\n",
       "        vertical-align: top;\n",
       "    }\n",
       "\n",
       "    .dataframe thead th {\n",
       "        text-align: right;\n",
       "    }\n",
       "</style>\n",
       "<table border=\"1\" class=\"dataframe\">\n",
       "  <thead>\n",
       "    <tr style=\"text-align: right;\">\n",
       "      <th></th>\n",
       "      <th>Price</th>\n",
       "      <th>Bathrooms</th>\n",
       "      <th>Square_Feet</th>\n",
       "    </tr>\n",
       "  </thead>\n",
       "  <tbody>\n",
       "    <tr>\n",
       "      <th>0</th>\n",
       "      <td>5343333</td>\n",
       "      <td>2</td>\n",
       "      <td>1500</td>\n",
       "    </tr>\n",
       "    <tr>\n",
       "      <th>1</th>\n",
       "      <td>3239333</td>\n",
       "      <td>3</td>\n",
       "      <td>2500</td>\n",
       "    </tr>\n",
       "    <tr>\n",
       "      <th>2</th>\n",
       "      <td>292333</td>\n",
       "      <td>2</td>\n",
       "      <td>1500</td>\n",
       "    </tr>\n",
       "  </tbody>\n",
       "</table>\n",
       "</div>"
      ],
      "text/plain": [
       "     Price  Bathrooms  Square_Feet\n",
       "0  5343333          2         1500\n",
       "1  3239333          3         2500\n",
       "2   292333          2         1500"
      ]
     },
     "execution_count": 8,
     "metadata": {},
     "output_type": "execute_result"
    }
   ],
   "source": [
    "# Strategy 1 : Drop Outliers\n",
    "\n",
    "import pandas as pd\n",
    "\n",
    "houses = pd.DataFrame()\n",
    "houses['Price'] = [5343333, 3239333, 292333, 4322032]\n",
    "houses['Bathrooms'] = [2, 3, 2, 116]\n",
    "houses['Square_Feet'] = [1500, 2500, 1500, 48000]\n",
    "\n",
    "houses[houses['Bathrooms'] < 20]"
   ]
  },
  {
   "cell_type": "code",
   "execution_count": 9,
   "metadata": {},
   "outputs": [
    {
     "data": {
      "text/html": [
       "<div>\n",
       "<style scoped>\n",
       "    .dataframe tbody tr th:only-of-type {\n",
       "        vertical-align: middle;\n",
       "    }\n",
       "\n",
       "    .dataframe tbody tr th {\n",
       "        vertical-align: top;\n",
       "    }\n",
       "\n",
       "    .dataframe thead th {\n",
       "        text-align: right;\n",
       "    }\n",
       "</style>\n",
       "<table border=\"1\" class=\"dataframe\">\n",
       "  <thead>\n",
       "    <tr style=\"text-align: right;\">\n",
       "      <th></th>\n",
       "      <th>Price</th>\n",
       "      <th>Bathrooms</th>\n",
       "      <th>Square_Feet</th>\n",
       "      <th>Outliers</th>\n",
       "    </tr>\n",
       "  </thead>\n",
       "  <tbody>\n",
       "    <tr>\n",
       "      <th>0</th>\n",
       "      <td>5343333</td>\n",
       "      <td>2</td>\n",
       "      <td>1500</td>\n",
       "      <td>0</td>\n",
       "    </tr>\n",
       "    <tr>\n",
       "      <th>1</th>\n",
       "      <td>3239333</td>\n",
       "      <td>3</td>\n",
       "      <td>2500</td>\n",
       "      <td>0</td>\n",
       "    </tr>\n",
       "    <tr>\n",
       "      <th>2</th>\n",
       "      <td>292333</td>\n",
       "      <td>2</td>\n",
       "      <td>1500</td>\n",
       "      <td>0</td>\n",
       "    </tr>\n",
       "    <tr>\n",
       "      <th>3</th>\n",
       "      <td>4322032</td>\n",
       "      <td>116</td>\n",
       "      <td>48000</td>\n",
       "      <td>1</td>\n",
       "    </tr>\n",
       "  </tbody>\n",
       "</table>\n",
       "</div>"
      ],
      "text/plain": [
       "     Price  Bathrooms  Square_Feet  Outliers\n",
       "0  5343333          2         1500         0\n",
       "1  3239333          3         2500         0\n",
       "2   292333          2         1500         0\n",
       "3  4322032        116        48000         1"
      ]
     },
     "execution_count": 9,
     "metadata": {},
     "output_type": "execute_result"
    }
   ],
   "source": [
    "# Strategy 2: Mark which are outliers\n",
    "houses['Outliers'] = np.where(houses[\"Bathrooms\"] < 20, 0, 1)\n",
    "houses"
   ]
  },
  {
   "cell_type": "code",
   "execution_count": 10,
   "metadata": {},
   "outputs": [
    {
     "data": {
      "text/html": [
       "<div>\n",
       "<style scoped>\n",
       "    .dataframe tbody tr th:only-of-type {\n",
       "        vertical-align: middle;\n",
       "    }\n",
       "\n",
       "    .dataframe tbody tr th {\n",
       "        vertical-align: top;\n",
       "    }\n",
       "\n",
       "    .dataframe thead th {\n",
       "        text-align: right;\n",
       "    }\n",
       "</style>\n",
       "<table border=\"1\" class=\"dataframe\">\n",
       "  <thead>\n",
       "    <tr style=\"text-align: right;\">\n",
       "      <th></th>\n",
       "      <th>Price</th>\n",
       "      <th>Bathrooms</th>\n",
       "      <th>Square_Feet</th>\n",
       "      <th>Outliers</th>\n",
       "      <th>Log Square Feet</th>\n",
       "    </tr>\n",
       "  </thead>\n",
       "  <tbody>\n",
       "    <tr>\n",
       "      <th>0</th>\n",
       "      <td>5343333</td>\n",
       "      <td>2</td>\n",
       "      <td>1500</td>\n",
       "      <td>0</td>\n",
       "      <td>7.313220</td>\n",
       "    </tr>\n",
       "    <tr>\n",
       "      <th>1</th>\n",
       "      <td>3239333</td>\n",
       "      <td>3</td>\n",
       "      <td>2500</td>\n",
       "      <td>0</td>\n",
       "      <td>7.824046</td>\n",
       "    </tr>\n",
       "    <tr>\n",
       "      <th>2</th>\n",
       "      <td>292333</td>\n",
       "      <td>2</td>\n",
       "      <td>1500</td>\n",
       "      <td>0</td>\n",
       "      <td>7.313220</td>\n",
       "    </tr>\n",
       "    <tr>\n",
       "      <th>3</th>\n",
       "      <td>4322032</td>\n",
       "      <td>116</td>\n",
       "      <td>48000</td>\n",
       "      <td>1</td>\n",
       "      <td>10.778956</td>\n",
       "    </tr>\n",
       "  </tbody>\n",
       "</table>\n",
       "</div>"
      ],
      "text/plain": [
       "     Price  Bathrooms  Square_Feet  Outliers  Log Square Feet\n",
       "0  5343333          2         1500         0         7.313220\n",
       "1  3239333          3         2500         0         7.824046\n",
       "2   292333          2         1500         0         7.313220\n",
       "3  4322032        116        48000         1        10.778956"
      ]
     },
     "execution_count": 10,
     "metadata": {},
     "output_type": "execute_result"
    }
   ],
   "source": [
    "# Strategy 3: Dampen the effect of the outlier\n",
    "houses['Log Square Feet'] = [np.log(x) for x in houses['Square_Feet']]\n",
    "houses"
   ]
  },
  {
   "cell_type": "markdown",
   "metadata": {},
   "source": [
    "# Discretizating Feature"
   ]
  },
  {
   "cell_type": "code",
   "execution_count": 11,
   "metadata": {},
   "outputs": [
    {
     "data": {
      "text/plain": [
       "array([[0],\n",
       "       [0],\n",
       "       [1],\n",
       "       [1],\n",
       "       [1]])"
      ]
     },
     "execution_count": 11,
     "metadata": {},
     "output_type": "execute_result"
    }
   ],
   "source": [
    "# You have a numerical feature and want to break it up into bins\n",
    "\n",
    "#Depending on how we want to break up the data there are 2 techniques\n",
    "\n",
    "# Technique 1 : Breaking up with 1 threshold\n",
    "age = np.array([[6],\n",
    "               [12],\n",
    "               [25],\n",
    "               [42],\n",
    "               [78]])\n",
    "\n",
    "binarizer = preprocessing.Binarizer(18)\n",
    "binarizer.fit_transform(age)\n"
   ]
  },
  {
   "cell_type": "code",
   "execution_count": 12,
   "metadata": {},
   "outputs": [
    {
     "data": {
      "text/plain": [
       "array([[0],\n",
       "       [0],\n",
       "       [1],\n",
       "       [2],\n",
       "       [3]])"
      ]
     },
     "execution_count": 12,
     "metadata": {},
     "output_type": "execute_result"
    }
   ],
   "source": [
    "# Technique 2: Breaking up data with multiple thresholds\n",
    "np.digitize(age, bins=[20, 30, 64])"
   ]
  },
  {
   "cell_type": "markdown",
   "metadata": {},
   "source": [
    "# Grouping Observation using Clustering"
   ]
  },
  {
   "cell_type": "code",
   "execution_count": 13,
   "metadata": {},
   "outputs": [
    {
     "data": {
      "text/html": [
       "<div>\n",
       "<style scoped>\n",
       "    .dataframe tbody tr th:only-of-type {\n",
       "        vertical-align: middle;\n",
       "    }\n",
       "\n",
       "    .dataframe tbody tr th {\n",
       "        vertical-align: top;\n",
       "    }\n",
       "\n",
       "    .dataframe thead th {\n",
       "        text-align: right;\n",
       "    }\n",
       "</style>\n",
       "<table border=\"1\" class=\"dataframe\">\n",
       "  <thead>\n",
       "    <tr style=\"text-align: right;\">\n",
       "      <th></th>\n",
       "      <th>Feature-1</th>\n",
       "      <th>Feature-2</th>\n",
       "      <th>Group</th>\n",
       "    </tr>\n",
       "  </thead>\n",
       "  <tbody>\n",
       "    <tr>\n",
       "      <th>0</th>\n",
       "      <td>-9.877554</td>\n",
       "      <td>-3.336145</td>\n",
       "      <td>2</td>\n",
       "    </tr>\n",
       "    <tr>\n",
       "      <th>1</th>\n",
       "      <td>-7.287210</td>\n",
       "      <td>-8.353986</td>\n",
       "      <td>0</td>\n",
       "    </tr>\n",
       "    <tr>\n",
       "      <th>2</th>\n",
       "      <td>-6.943061</td>\n",
       "      <td>-7.023744</td>\n",
       "      <td>0</td>\n",
       "    </tr>\n",
       "    <tr>\n",
       "      <th>3</th>\n",
       "      <td>-7.440167</td>\n",
       "      <td>-8.791959</td>\n",
       "      <td>0</td>\n",
       "    </tr>\n",
       "    <tr>\n",
       "      <th>4</th>\n",
       "      <td>-6.641388</td>\n",
       "      <td>-8.075888</td>\n",
       "      <td>0</td>\n",
       "    </tr>\n",
       "    <tr>\n",
       "      <th>5</th>\n",
       "      <td>-0.794152</td>\n",
       "      <td>2.104951</td>\n",
       "      <td>1</td>\n",
       "    </tr>\n",
       "    <tr>\n",
       "      <th>6</th>\n",
       "      <td>-2.760179</td>\n",
       "      <td>5.551214</td>\n",
       "      <td>1</td>\n",
       "    </tr>\n",
       "    <tr>\n",
       "      <th>7</th>\n",
       "      <td>-9.946905</td>\n",
       "      <td>-4.590344</td>\n",
       "      <td>2</td>\n",
       "    </tr>\n",
       "    <tr>\n",
       "      <th>8</th>\n",
       "      <td>-0.525790</td>\n",
       "      <td>3.306599</td>\n",
       "      <td>1</td>\n",
       "    </tr>\n",
       "    <tr>\n",
       "      <th>9</th>\n",
       "      <td>-1.981977</td>\n",
       "      <td>4.022436</td>\n",
       "      <td>1</td>\n",
       "    </tr>\n",
       "  </tbody>\n",
       "</table>\n",
       "</div>"
      ],
      "text/plain": [
       "   Feature-1  Feature-2  Group\n",
       "0  -9.877554  -3.336145      2\n",
       "1  -7.287210  -8.353986      0\n",
       "2  -6.943061  -7.023744      0\n",
       "3  -7.440167  -8.791959      0\n",
       "4  -6.641388  -8.075888      0\n",
       "5  -0.794152   2.104951      1\n",
       "6  -2.760179   5.551214      1\n",
       "7  -9.946905  -4.590344      2\n",
       "8  -0.525790   3.306599      1\n",
       "9  -1.981977   4.022436      1"
      ]
     },
     "execution_count": 13,
     "metadata": {},
     "output_type": "execute_result"
    }
   ],
   "source": [
    "# You want to cluster observations so that similar observations are grouped together\n",
    "\n",
    "# If you know that you have k-groups , you can use k-means clustering\n",
    "\n",
    "from sklearn.cluster import KMeans\n",
    "\n",
    "features, _ = datasets.make_blobs(n_samples = 50,\n",
    "                                 n_features = 2,\n",
    "                                 centers = 3,\n",
    "                                 random_state = 1)\n",
    "\n",
    "df = pd.DataFrame(features, columns = [\"Feature-1\", \"Feature-2\"])\n",
    "clusterer = KMeans(3, random_state = 0)\n",
    "clusterer.fit(features)\n",
    "df['Group'] = clusterer.predict(features)\n",
    "df.head(10)"
   ]
  },
  {
   "cell_type": "markdown",
   "metadata": {},
   "source": [
    "# Imputing Missing Values"
   ]
  },
  {
   "cell_type": "code",
   "execution_count": 18,
   "metadata": {},
   "outputs": [
    {
     "name": "stdout",
     "output_type": "stream",
     "text": [
      "True value:  0.8730186113995938\n",
      "Imputed value:  1.0955332713113226\n",
      "True value:  0.8730186113995938\n",
      "Imputed value:  -0.000873892503901796\n"
     ]
    }
   ],
   "source": [
    "# You have missing values in your data and want to fill in or predict their values\n",
    "\n",
    "# If you have small amount of data, predict the missing values using k-nearest neighbours\n",
    "from fancyimpute import KNN\n",
    "\n",
    "features, _ = datasets.make_blobs(n_samples = 1000,\n",
    "                                 n_features = 2,\n",
    "                                 random_state = 1)\n",
    "\n",
    "scaler = preprocessing.StandardScaler()\n",
    "standarized_features = scaler.fit_transform(features)\n",
    "\n",
    "# Replace first features first value with a missing values\n",
    "true_value = standarized_features[0,0]\n",
    "standarized_features[0,0] = np.nan\n",
    "\n",
    "features_knn_imputed = KNN(k=5, verbose=0).fit_transform(standarized_features)\n",
    "print('True value: ', true_value)\n",
    "print('Imputed value: ',features_knn_imputed[0,0])\n",
    "\n",
    "from sklearn.impute import SimpleImputer\n",
    "# In case of large dataset we use scikit-learn's Imputer module to fill in the missing value with features's mean, median or mode.\n",
    "mean_imputer = SimpleImputer(strategy='mean')\n",
    "features_mean_imputed = mean_imputer.fit_transform(standarized_features)\n",
    "print('True value: ', true_value)\n",
    "print('Imputed value: ',features_mean_imputed[0,0])\n"
   ]
  },
  {
   "cell_type": "code",
   "execution_count": null,
   "metadata": {},
   "outputs": [],
   "source": []
  }
 ],
 "metadata": {
  "kernelspec": {
   "display_name": "Python 3",
   "language": "python",
   "name": "python3"
  },
  "language_info": {
   "codemirror_mode": {
    "name": "ipython",
    "version": 3
   },
   "file_extension": ".py",
   "mimetype": "text/x-python",
   "name": "python",
   "nbconvert_exporter": "python",
   "pygments_lexer": "ipython3",
   "version": "3.7.5"
  }
 },
 "nbformat": 4,
 "nbformat_minor": 4
}
