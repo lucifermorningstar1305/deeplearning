{
 "cells": [
  {
   "cell_type": "code",
   "execution_count": 1,
   "metadata": {},
   "outputs": [],
   "source": [
    "import numpy as np"
   ]
  },
  {
   "cell_type": "code",
   "execution_count": 2,
   "metadata": {},
   "outputs": [
    {
     "data": {
      "text/plain": [
       "array([1, 2, 3])"
      ]
     },
     "execution_count": 2,
     "metadata": {},
     "output_type": "execute_result"
    }
   ],
   "source": [
    "# Creating a vector as row\n",
    "vector_row = np.array([1,2,3])\n",
    "vector_row"
   ]
  },
  {
   "cell_type": "code",
   "execution_count": 3,
   "metadata": {},
   "outputs": [
    {
     "data": {
      "text/plain": [
       "array([[1],\n",
       "       [2],\n",
       "       [3]])"
      ]
     },
     "execution_count": 3,
     "metadata": {},
     "output_type": "execute_result"
    }
   ],
   "source": [
    "# Creating a vector as column\n",
    "vector_column = np.array([[1],\n",
    "                         [2],\n",
    "                         [3]])\n",
    "vector_column"
   ]
  },
  {
   "cell_type": "code",
   "execution_count": 4,
   "metadata": {},
   "outputs": [
    {
     "data": {
      "text/plain": [
       "array([[1, 2],\n",
       "       [1, 2],\n",
       "       [1, 2]])"
      ]
     },
     "execution_count": 4,
     "metadata": {},
     "output_type": "execute_result"
    }
   ],
   "source": [
    "# Creating a Matrix\n",
    "matrix = np.array([[1, 2],\n",
    "                  [1, 2],\n",
    "                  [1, 2]])\n",
    "matrix"
   ]
  },
  {
   "cell_type": "code",
   "execution_count": 8,
   "metadata": {},
   "outputs": [
    {
     "name": "stdout",
     "output_type": "stream",
     "text": [
      "  (0, 0)\t1\n",
      "  (2, 1)\t3\n",
      "  (3, 1)\t1\n"
     ]
    }
   ],
   "source": [
    "# Creating a Sparse Matric\n",
    "from scipy import sparse\n",
    "matrix = np.array([[1,0],\n",
    "                   [0, 0],\n",
    "                    [0, 3],\n",
    "                    [0, 1]])\n",
    "\n",
    "sparse_matrix = sparse.csr_matrix(matrix)\n",
    "print(sparse_matrix)"
   ]
  },
  {
   "cell_type": "code",
   "execution_count": 10,
   "metadata": {},
   "outputs": [
    {
     "data": {
      "text/plain": [
       "array([[101, 102],\n",
       "       [102, 104],\n",
       "       [105, 110]])"
      ]
     },
     "execution_count": 10,
     "metadata": {},
     "output_type": "execute_result"
    }
   ],
   "source": [
    "# Apply Operations to Elements\n",
    "matrix = np.array([[1, 2], \n",
    "                  [2, 4],\n",
    "                  [5, 10]])\n",
    "add_100 = lambda x: x + 100\n",
    "vectorized_add_100 = np.vectorize(add_100) # This function let's a function apply to every element of an array\n",
    "vectorized_add_100(matrix)"
   ]
  },
  {
   "cell_type": "code",
   "execution_count": 11,
   "metadata": {},
   "outputs": [
    {
     "name": "stdout",
     "output_type": "stream",
     "text": [
      "Max along row: [3 6 9]\n",
      "Min along row: [1 4 7]\n",
      "Max along column: [7 8 9]\n",
      "Min along column: [1 2 3]\n"
     ]
    }
   ],
   "source": [
    "matrix = np.array([[1, 2, 3],\n",
    "                  [4, 5, 6], \n",
    "                  [7, 8, 9]])\n",
    "print('Max along row: {}'.format(np.max(matrix, axis=1)))\n",
    "print('Min along row: {}'.format(np.min(matrix, axis=1)))\n",
    "print('Max along column: {}'.format(np.max(matrix, axis=0)))\n",
    "print('Min along column: {}'.format(np.min(matrix, axis=0)))"
   ]
  },
  {
   "cell_type": "code",
   "execution_count": 12,
   "metadata": {},
   "outputs": [
    {
     "name": "stdout",
     "output_type": "stream",
     "text": [
      "Mean in total: 5.0\n",
      "Variance in total: 6.666666666666667\n",
      "Std. Deviation in total: 2.581988897471611\n",
      "***************************************************************\n",
      "Mean along columns: [4. 5. 6.]\n"
     ]
    }
   ],
   "source": [
    "# Calculating Average, Variance, Std. Deviation\n",
    "matrix = np.array([[1, 2, 3],\n",
    "                  [4, 5, 6], \n",
    "                  [7, 8, 9]])\n",
    "print('Mean in total: {}'.format(np.mean(matrix)))\n",
    "print('Variance in total: {}'.format(np.var(matrix)))\n",
    "print('Std. Deviation in total: {}'.format(np.std(matrix)))\n",
    "\n",
    "print('*'*63)\n",
    "\n",
    "print('Mean along columns: {}'.format(np.mean(matrix, axis=0)))"
   ]
  },
  {
   "cell_type": "code",
   "execution_count": 13,
   "metadata": {},
   "outputs": [
    {
     "data": {
      "text/plain": [
       "2"
      ]
     },
     "execution_count": 13,
     "metadata": {},
     "output_type": "execute_result"
    }
   ],
   "source": [
    "# Finding the Rank of a Matrix\n",
    "matrix = np.array([[1, 1, 2],\n",
    "                  [2, 0, 4],\n",
    "                  [3, 2, 6]])\n",
    "np.linalg.matrix_rank(matrix)"
   ]
  },
  {
   "cell_type": "code",
   "execution_count": 14,
   "metadata": {},
   "outputs": [
    {
     "data": {
      "text/plain": [
       "0.0"
      ]
     },
     "execution_count": 14,
     "metadata": {},
     "output_type": "execute_result"
    }
   ],
   "source": [
    "# Calculating the Determinant of a Matrix\n",
    "matrix = np.array([[1, 1, 2],\n",
    "                  [2, 0, 4],\n",
    "                  [3, 2, 6]])\n",
    "np.linalg.det(matrix)"
   ]
  },
  {
   "cell_type": "code",
   "execution_count": 16,
   "metadata": {},
   "outputs": [
    {
     "name": "stdout",
     "output_type": "stream",
     "text": [
      "Main Diagonal [1 0 6]\n",
      "Diagonal one above Main Diagonal [1 4]\n",
      "Diagonal one below Main Diagonal [2 2]\n"
     ]
    }
   ],
   "source": [
    "# Getting the Diagonal of a Matrix\n",
    "matrix = np.array([[1, 1, 2],\n",
    "                  [2, 0, 4],\n",
    "                  [3, 2, 6]])\n",
    "print('Main Diagonal {}'.format(matrix.diagonal()))\n",
    "print('Diagonal one above Main Diagonal {}'.format(matrix.diagonal(offset=1)))\n",
    "print('Diagonal one below Main Diagonal {}'.format(matrix.diagonal(offset=-1)))"
   ]
  },
  {
   "cell_type": "code",
   "execution_count": 17,
   "metadata": {},
   "outputs": [
    {
     "data": {
      "text/plain": [
       "7"
      ]
     },
     "execution_count": 17,
     "metadata": {},
     "output_type": "execute_result"
    }
   ],
   "source": [
    "# Calculating the Trace of a Matrix\n",
    "matrix = np.array([[1, 1, 2],\n",
    "                  [2, 0, 4],\n",
    "                  [3, 2, 6]])\n",
    "matrix.trace()"
   ]
  },
  {
   "cell_type": "code",
   "execution_count": 18,
   "metadata": {},
   "outputs": [
    {
     "name": "stdout",
     "output_type": "stream",
     "text": [
      "[ 8.21699057e+00  7.92907542e-18 -1.21699057e+00]\n",
      "[[-2.95513359e-01 -8.94427191e-01  3.03428475e-01]\n",
      " [-4.75331844e-01 -4.69171996e-16 -9.43205983e-01]\n",
      " [-8.28692640e-01  4.47213595e-01  1.35253958e-01]]\n"
     ]
    }
   ],
   "source": [
    "# Finding the Eigen Value and Vector of a Matrix\n",
    "matrix = np.array([[1, 1, 2],\n",
    "                  [2, 0, 4],\n",
    "                  [3, 2, 6]])\n",
    "\n",
    "eigenvalues, eigenvectors = np.linalg.eig(matrix)\n",
    "print(eigenvalues)\n",
    "print(eigenvectors)"
   ]
  },
  {
   "cell_type": "code",
   "execution_count": 19,
   "metadata": {},
   "outputs": [
    {
     "data": {
      "text/plain": [
       "28"
      ]
     },
     "execution_count": 19,
     "metadata": {},
     "output_type": "execute_result"
    }
   ],
   "source": [
    "# Calculating the dot product\n",
    "vector_a = np.array([1, 2, 3])\n",
    "vector_b = np.array([2, 4, 6])\n",
    "np.dot(vector_a, vector_b)"
   ]
  },
  {
   "cell_type": "code",
   "execution_count": 20,
   "metadata": {},
   "outputs": [
    {
     "data": {
      "text/plain": [
       "array([[-0.14285714,  0.28571429],\n",
       "       [ 0.28571429, -0.07142857]])"
      ]
     },
     "execution_count": 20,
     "metadata": {},
     "output_type": "execute_result"
    }
   ],
   "source": [
    "# Inverting a Matrix\n",
    "matrix = np.array([[1, 4],\n",
    "                  [4, 2]])\n",
    "np.linalg.inv(matrix)"
   ]
  },
  {
   "cell_type": "code",
   "execution_count": null,
   "metadata": {},
   "outputs": [],
   "source": []
  }
 ],
 "metadata": {
  "kernelspec": {
   "display_name": "Python 3",
   "language": "python",
   "name": "python3"
  },
  "language_info": {
   "codemirror_mode": {
    "name": "ipython",
    "version": 3
   },
   "file_extension": ".py",
   "mimetype": "text/x-python",
   "name": "python",
   "nbconvert_exporter": "python",
   "pygments_lexer": "ipython3",
   "version": "3.7.5"
  }
 },
 "nbformat": 4,
 "nbformat_minor": 4
}
