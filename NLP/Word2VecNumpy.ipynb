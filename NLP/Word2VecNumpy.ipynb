{
 "cells": [
  {
   "cell_type": "code",
   "execution_count": 1,
   "metadata": {},
   "outputs": [],
   "source": [
    "import numpy as np\n",
    "import matplotlib.pyplot as plt\n",
    "from datareader import DataReader\n",
    "from sklearn.utils import shuffle\n",
    "from datetime import datetime\n",
    "from sklearn.metrics import pairwise_distances\n",
    "from tqdm import tqdm_notebook as tqdm"
   ]
  },
  {
   "cell_type": "code",
   "execution_count": 16,
   "metadata": {},
   "outputs": [
    {
     "name": "stdout",
     "output_type": "stream",
     "text": [
      "Length of vocabulary: 20000\n",
      "Length of corpus : 20360\n"
     ]
    }
   ],
   "source": [
    "vocab, sentences = DataReader().main(vocab_limit=20000, datatype='wiki')\n",
    "print(\"Length of vocabulary: {}\".format(len(vocab)))\n",
    "print(\"Length of corpus : {}\".format(len(sentences)))"
   ]
  },
  {
   "cell_type": "code",
   "execution_count": 3,
   "metadata": {},
   "outputs": [],
   "source": [
    "np.random.seed(0)"
   ]
  },
  {
   "cell_type": "code",
   "execution_count": 17,
   "metadata": {},
   "outputs": [],
   "source": [
    "class Model:\n",
    "    \n",
    "    def __init__(self):\n",
    "        pass\n",
    "    \n",
    "    def negativeSampling(self, sentences, vocab_size):\n",
    "        \n",
    "        \"\"\"\n",
    "        -----------------------------------------------------------\n",
    "        Description :\n",
    "        Calculates the negative sampling distribution of an array of words\n",
    "        \n",
    "        Input:\n",
    "        sentences -- a list of integers [0, 1, 2, ....] , each integer represents word idx\n",
    "        vocab_size -- an integer representing the vocabulary size\n",
    "        \n",
    "        Return:\n",
    "        p_w -- a numpy ndarray containing the negative sampling distribution of the words\n",
    "        ------------------------------------------------------------\n",
    "        \n",
    "        \"\"\"\n",
    "        \n",
    "        word_count_keeper = np.zeros(vocab_size)\n",
    "        \n",
    "        total_word_count = sum(len(sentence) for sentence in sentences)\n",
    "        \n",
    "        for sentence in sentences:\n",
    "            for word in sentence:\n",
    "                word_count_keeper[word] += 1\n",
    "                \n",
    "        assert(np.all(word_count_keeper > 0))\n",
    "        \n",
    "        p_w = word_count_keeper ** 0.75\n",
    "        p_w = p_w / p_w.sum()\n",
    "        \n",
    "        assert(np.all(p_w > 0))\n",
    "        \n",
    "        return p_w\n",
    "    \n",
    "    \n",
    "    def getContext(self, pos, sentence, window_size):\n",
    "        \n",
    "        \"\"\"\n",
    "        ------------------------------------------------------\n",
    "        Description:\n",
    "        Function to get the context words surrounding the middle word\n",
    "        \n",
    "        where the input sentence is x x x x c c c c p c c c c x x x x\n",
    "        and the return is [c c c c c c c c]\n",
    "        \n",
    "        Input:\n",
    "        pos -- an integer representing the position of the middle word\n",
    "        sentence -- a list of integer [0, 1, 2, ...] representing the word idx in a sentence\n",
    "        window_size -- an integer representing the window size for extracting context words\n",
    "        \n",
    "        Return :\n",
    "        context -- a list containing the context words surrounding the middle word\n",
    "        ------------------------------------------------------\n",
    "        \"\"\"\n",
    "        \n",
    "        start = max(0, pos-window_size)\n",
    "        end = min(len(sentence), pos+window_size)\n",
    "        \n",
    "        context = []\n",
    "        \n",
    "        for ctx_pos, ctx_word_id in enumerate(sentence[start:end], start=start):\n",
    "            \n",
    "            if ctx_pos != pos:\n",
    "                context.append(ctx_word_id)\n",
    "                \n",
    "        return context\n",
    "    \n",
    "    \n",
    "    def sigmoid(self, z):\n",
    "        \n",
    "        \"\"\"\n",
    "        -----------------------------------------------\n",
    "        Description:\n",
    "        Function to calculate the sigmoid function of a variable\n",
    "        \n",
    "        Formula :\n",
    "         \n",
    "         1 / (1 + e ^ -x)\n",
    "        \n",
    "        Input:\n",
    "        z -- a numpy nd-array containing the float point values\n",
    "        \n",
    "        Return :\n",
    "        sig -- a numpy nd-array containing the sigmoid values\n",
    "        ----------------------------------------------\n",
    "        \n",
    "        \"\"\"\n",
    "        sig = 1 / (1 + np.exp(-z))\n",
    "        \n",
    "        return sig\n",
    "    \n",
    "    \n",
    "    def SGD(self, word, context, label, W1, W2, lr):\n",
    "        \"\"\"\n",
    "        -----------------------------------------------------\n",
    "        Description : \n",
    "        Function to calculate the SGD optimization of weights\n",
    "        \n",
    "        Input:\n",
    "        word -- an integer value representing a word index\n",
    "        context -- a numpy nd-array containing an array of integers\n",
    "        label -- an integer value representing if it's positive or negative (1/0)\n",
    "        W1 -- a numpy nd-array containing floating point value representing weights for layer 1\n",
    "        W2 -- a numpy nd-array containing floating point value representing weights for layer 2\n",
    "        lr -- a floating point value representing learning rate for the network\n",
    "        \n",
    "        Return :\n",
    "        loss -- a floating point value representing the categorical cross entropy value\n",
    "        -------------------------------------------------------\n",
    "        \"\"\"\n",
    "        \n",
    "        pred = self.sigmoid(W1[word].dot(W2[:,context]))\n",
    "        gW2 = np.outer(W1[word], (pred - label))\n",
    "        gW1 = np.sum((pred-label)*W2[:, context], axis = 1)\n",
    "        \n",
    "        W2[:, context] -= lr * gW2\n",
    "        W1[word] -= lr * gW1\n",
    "        \n",
    "        loss = -np.sum((label * np.log(pred + 1e-10)) + (1 - label) * np.log(1 - pred + 1e-10)) / pred.shape[0]\n",
    "        \n",
    "        return loss\n",
    "        \n",
    "        \n",
    "        \n",
    "    \n",
    "    def train(self, vocab, sentences, epochs=20, lr=25*1e-3, lr2=1e-4, window_size=5, hidden=100):\n",
    "        \"\"\"\n",
    "        ---------------------------------------------\n",
    "        Description :\n",
    "        Function to train the 2-layered network using SGD optimization\n",
    "        \n",
    "        Input :\n",
    "        vocab -- a python-dict containing a (word,idx) pair {word:idx}\n",
    "        sentences -- a python list containing list of integers which are actually word idxs in a sentence\n",
    "        epochs -- a integer representing number of turns for training. Default = 20\n",
    "        lr -- a float value representing initial learning rate for the network. Default = 1e-3 * 25\n",
    "        lr2 -- a float value representing final learning rate for the network. Default = 1e-4\n",
    "        window_size -- a integer value representing the window-size for context and middle word. Default = 5\n",
    "        hidden -- a integer value representing the hidden layer dimension. Default = 100\n",
    "        \n",
    "        Return :\n",
    "        costs -- a python list containing the error after each epoch\n",
    "        W1 -- a numpy ndarray representing weights for layer 1\n",
    "        W2 -- a numpy ndarray representing weights for layer 2\n",
    "        ----------------------------------------------\n",
    "        \n",
    "        \"\"\"\n",
    "        \n",
    "        p_w = self.negativeSampling(sentences, len(vocab))\n",
    "        \n",
    "        threshold = 1e-5\n",
    "        \n",
    "        p_drop = 1 - np.sqrt(threshold/p_w)\n",
    "        \n",
    "        V = len(vocab)\n",
    "        D = hidden\n",
    "        \n",
    "        W1 = np.random.randn(V, D) / np.sqrt(V)\n",
    "        W2 = np.random.randn(D, V) / np.sqrt(V)\n",
    "        \n",
    "        \n",
    "        costs = []\n",
    "        lr_decay = (lr - lr2) / epochs\n",
    "        \n",
    "        \n",
    "        for epoch in range(epochs):\n",
    "            np.random.shuffle(sentences)\n",
    "            \n",
    "            cost = 0\n",
    "            counter = 0\n",
    "            t0 = datetime.now()\n",
    "            \n",
    "            for sentence in tqdm(sentences):\n",
    "\n",
    "                sentence = [word for word in sentence if np.random.random() < (1 - p_drop[word])]\n",
    "\n",
    "                if len(sentence) < 2:\n",
    "                    continue\n",
    "\n",
    "                randomly_positioned = np.random.choice(len(sentence), size=len(sentence), replace=False)\n",
    "\n",
    "                for pos in randomly_positioned:\n",
    "\n",
    "                    word = sentence[pos]\n",
    "\n",
    "                    context_words = self.getContext(pos, sentence, window_size)\n",
    "                    neg_word = np.random.choice(V, p=p_w)\n",
    "\n",
    "                    targets = np.array(context_words)\n",
    "\n",
    "                    loss = self.SGD(word, targets, 1, W1, W2, lr)\n",
    "\n",
    "                    cost += loss\n",
    "\n",
    "                    loss = self.SGD(neg_word, targets, 0, W1, W2, lr)\n",
    "\n",
    "                    cost += loss\n",
    "                \n",
    "                counter += 1\n",
    "                \n",
    "            costs.append(cost)\n",
    "            print(\"Epoch : {}, Cost : {}, time: {}\".format(epoch, cost, datetime.now() - t0))\n",
    "            \n",
    "            lr -= lr_decay\n",
    "            \n",
    "        \n",
    "        return costs, W1, W2\n"
   ]
  },
  {
   "cell_type": "code",
   "execution_count": 18,
   "metadata": {},
   "outputs": [
    {
     "name": "stderr",
     "output_type": "stream",
     "text": [
      "/opt/conda/lib/python3.7/site-packages/ipykernel_launcher.py:178: TqdmDeprecationWarning: This function will be removed in tqdm==5.0.0\n",
      "Please use `tqdm.notebook.tqdm` instead of `tqdm.tqdm_notebook`\n"
     ]
    },
    {
     "data": {
      "application/vnd.jupyter.widget-view+json": {
       "model_id": "ac3120ced09b481d8e2cbb8645faee86",
       "version_major": 2,
       "version_minor": 0
      },
      "text/plain": [
       "HBox(children=(FloatProgress(value=0.0, max=20360.0), HTML(value='')))"
      ]
     },
     "metadata": {},
     "output_type": "display_data"
    },
    {
     "name": "stdout",
     "output_type": "stream",
     "text": [
      "\n",
      "Epoch : 0, Cost : 174913.99718794544, time: 0:00:51.140617\n"
     ]
    },
    {
     "data": {
      "application/vnd.jupyter.widget-view+json": {
       "model_id": "d4c886d1684c43f7a953cf77b310e42e",
       "version_major": 2,
       "version_minor": 0
      },
      "text/plain": [
       "HBox(children=(FloatProgress(value=0.0, max=20360.0), HTML(value='')))"
      ]
     },
     "metadata": {},
     "output_type": "display_data"
    },
    {
     "name": "stdout",
     "output_type": "stream",
     "text": [
      "\n",
      "Epoch : 1, Cost : 174322.56090709, time: 0:00:50.049444\n"
     ]
    },
    {
     "data": {
      "application/vnd.jupyter.widget-view+json": {
       "model_id": "b0d64a3411754449a57ca425d068d732",
       "version_major": 2,
       "version_minor": 0
      },
      "text/plain": [
       "HBox(children=(FloatProgress(value=0.0, max=20360.0), HTML(value='')))"
      ]
     },
     "metadata": {},
     "output_type": "display_data"
    },
    {
     "name": "stdout",
     "output_type": "stream",
     "text": [
      "\n",
      "Epoch : 2, Cost : 173660.28528743898, time: 0:00:50.814685\n"
     ]
    },
    {
     "data": {
      "application/vnd.jupyter.widget-view+json": {
       "model_id": "1c12cf1ba7bb4576be6d5a6c49c15ff7",
       "version_major": 2,
       "version_minor": 0
      },
      "text/plain": [
       "HBox(children=(FloatProgress(value=0.0, max=20360.0), HTML(value='')))"
      ]
     },
     "metadata": {},
     "output_type": "display_data"
    },
    {
     "name": "stdout",
     "output_type": "stream",
     "text": [
      "\n",
      "Epoch : 3, Cost : 173630.09380081567, time: 0:00:49.117157\n"
     ]
    },
    {
     "data": {
      "application/vnd.jupyter.widget-view+json": {
       "model_id": "ce243f98fb4247ae8a53691252bdd5d0",
       "version_major": 2,
       "version_minor": 0
      },
      "text/plain": [
       "HBox(children=(FloatProgress(value=0.0, max=20360.0), HTML(value='')))"
      ]
     },
     "metadata": {},
     "output_type": "display_data"
    },
    {
     "name": "stdout",
     "output_type": "stream",
     "text": [
      "\n",
      "Epoch : 4, Cost : 173663.16518526556, time: 0:00:49.374893\n"
     ]
    },
    {
     "data": {
      "application/vnd.jupyter.widget-view+json": {
       "model_id": "9a5fb1f4340646069d7a0ef43b849de6",
       "version_major": 2,
       "version_minor": 0
      },
      "text/plain": [
       "HBox(children=(FloatProgress(value=0.0, max=20360.0), HTML(value='')))"
      ]
     },
     "metadata": {},
     "output_type": "display_data"
    },
    {
     "name": "stdout",
     "output_type": "stream",
     "text": [
      "\n",
      "Epoch : 5, Cost : 173569.4946694666, time: 0:00:49.162648\n"
     ]
    },
    {
     "data": {
      "application/vnd.jupyter.widget-view+json": {
       "model_id": "1c8a6965be9742e29e3cad3d9b60c2a3",
       "version_major": 2,
       "version_minor": 0
      },
      "text/plain": [
       "HBox(children=(FloatProgress(value=0.0, max=20360.0), HTML(value='')))"
      ]
     },
     "metadata": {},
     "output_type": "display_data"
    },
    {
     "name": "stdout",
     "output_type": "stream",
     "text": [
      "\n",
      "Epoch : 6, Cost : 173543.44491052194, time: 0:00:49.315975\n"
     ]
    },
    {
     "data": {
      "application/vnd.jupyter.widget-view+json": {
       "model_id": "06b4218ece6b4330ab3c90fbea22dfa3",
       "version_major": 2,
       "version_minor": 0
      },
      "text/plain": [
       "HBox(children=(FloatProgress(value=0.0, max=20360.0), HTML(value='')))"
      ]
     },
     "metadata": {},
     "output_type": "display_data"
    },
    {
     "name": "stdout",
     "output_type": "stream",
     "text": [
      "\n",
      "Epoch : 7, Cost : 172770.10592737197, time: 0:00:49.024527\n"
     ]
    },
    {
     "data": {
      "application/vnd.jupyter.widget-view+json": {
       "model_id": "7c17baba62f84b3fbe1647ad47da75ea",
       "version_major": 2,
       "version_minor": 0
      },
      "text/plain": [
       "HBox(children=(FloatProgress(value=0.0, max=20360.0), HTML(value='')))"
      ]
     },
     "metadata": {},
     "output_type": "display_data"
    },
    {
     "name": "stdout",
     "output_type": "stream",
     "text": [
      "\n",
      "Epoch : 8, Cost : 173405.46730468635, time: 0:00:49.207701\n"
     ]
    },
    {
     "data": {
      "application/vnd.jupyter.widget-view+json": {
       "model_id": "489b0ff1fae0475286f2f06733ee4096",
       "version_major": 2,
       "version_minor": 0
      },
      "text/plain": [
       "HBox(children=(FloatProgress(value=0.0, max=20360.0), HTML(value='')))"
      ]
     },
     "metadata": {},
     "output_type": "display_data"
    },
    {
     "name": "stdout",
     "output_type": "stream",
     "text": [
      "\n",
      "Epoch : 9, Cost : 173099.61366547822, time: 0:00:48.955111\n"
     ]
    },
    {
     "data": {
      "application/vnd.jupyter.widget-view+json": {
       "model_id": "e0671e8dbf514b769e712821bcb3681a",
       "version_major": 2,
       "version_minor": 0
      },
      "text/plain": [
       "HBox(children=(FloatProgress(value=0.0, max=20360.0), HTML(value='')))"
      ]
     },
     "metadata": {},
     "output_type": "display_data"
    },
    {
     "name": "stdout",
     "output_type": "stream",
     "text": [
      "\n",
      "Epoch : 10, Cost : 172257.5190456481, time: 0:00:49.322811\n"
     ]
    },
    {
     "data": {
      "application/vnd.jupyter.widget-view+json": {
       "model_id": "8df49fbd38e442b4938af77c1b35e505",
       "version_major": 2,
       "version_minor": 0
      },
      "text/plain": [
       "HBox(children=(FloatProgress(value=0.0, max=20360.0), HTML(value='')))"
      ]
     },
     "metadata": {},
     "output_type": "display_data"
    },
    {
     "name": "stdout",
     "output_type": "stream",
     "text": [
      "\n",
      "Epoch : 11, Cost : 172997.0524767636, time: 0:00:49.540172\n"
     ]
    },
    {
     "data": {
      "application/vnd.jupyter.widget-view+json": {
       "model_id": "a420bfb814084ff7bd0596b6f3a5c3a2",
       "version_major": 2,
       "version_minor": 0
      },
      "text/plain": [
       "HBox(children=(FloatProgress(value=0.0, max=20360.0), HTML(value='')))"
      ]
     },
     "metadata": {},
     "output_type": "display_data"
    },
    {
     "name": "stdout",
     "output_type": "stream",
     "text": [
      "\n",
      "Epoch : 12, Cost : 172609.36421519297, time: 0:00:57.714590\n"
     ]
    },
    {
     "data": {
      "application/vnd.jupyter.widget-view+json": {
       "model_id": "20f81efb566849d4849fe17aeabb2698",
       "version_major": 2,
       "version_minor": 0
      },
      "text/plain": [
       "HBox(children=(FloatProgress(value=0.0, max=20360.0), HTML(value='')))"
      ]
     },
     "metadata": {},
     "output_type": "display_data"
    },
    {
     "name": "stdout",
     "output_type": "stream",
     "text": [
      "\n",
      "Epoch : 13, Cost : 172721.68986269046, time: 0:01:16.137061\n"
     ]
    },
    {
     "data": {
      "application/vnd.jupyter.widget-view+json": {
       "model_id": "4c66d210a7944c9387a14e961c718ae2",
       "version_major": 2,
       "version_minor": 0
      },
      "text/plain": [
       "HBox(children=(FloatProgress(value=0.0, max=20360.0), HTML(value='')))"
      ]
     },
     "metadata": {},
     "output_type": "display_data"
    },
    {
     "name": "stdout",
     "output_type": "stream",
     "text": [
      "\n",
      "Epoch : 14, Cost : 172318.3798245316, time: 0:01:15.549277\n"
     ]
    },
    {
     "data": {
      "application/vnd.jupyter.widget-view+json": {
       "model_id": "9bb77d4e27414488b4b1bfeff6b973de",
       "version_major": 2,
       "version_minor": 0
      },
      "text/plain": [
       "HBox(children=(FloatProgress(value=0.0, max=20360.0), HTML(value='')))"
      ]
     },
     "metadata": {},
     "output_type": "display_data"
    },
    {
     "name": "stdout",
     "output_type": "stream",
     "text": [
      "\n",
      "Epoch : 15, Cost : 172296.88946770228, time: 0:01:15.985757\n"
     ]
    },
    {
     "data": {
      "application/vnd.jupyter.widget-view+json": {
       "model_id": "a28be09eaa6d43ddb5b0e590b8361ded",
       "version_major": 2,
       "version_minor": 0
      },
      "text/plain": [
       "HBox(children=(FloatProgress(value=0.0, max=20360.0), HTML(value='')))"
      ]
     },
     "metadata": {},
     "output_type": "display_data"
    },
    {
     "name": "stdout",
     "output_type": "stream",
     "text": [
      "\n",
      "Epoch : 16, Cost : 171338.07475954117, time: 0:01:19.580393\n"
     ]
    },
    {
     "data": {
      "application/vnd.jupyter.widget-view+json": {
       "model_id": "10ed495235c74441935a0141b1fe7e8e",
       "version_major": 2,
       "version_minor": 0
      },
      "text/plain": [
       "HBox(children=(FloatProgress(value=0.0, max=20360.0), HTML(value='')))"
      ]
     },
     "metadata": {},
     "output_type": "display_data"
    },
    {
     "name": "stdout",
     "output_type": "stream",
     "text": [
      "\n",
      "Epoch : 17, Cost : 170743.75295020448, time: 0:01:21.351288\n"
     ]
    },
    {
     "data": {
      "application/vnd.jupyter.widget-view+json": {
       "model_id": "cc3941fda8554a518361932d1d6fe199",
       "version_major": 2,
       "version_minor": 0
      },
      "text/plain": [
       "HBox(children=(FloatProgress(value=0.0, max=20360.0), HTML(value='')))"
      ]
     },
     "metadata": {},
     "output_type": "display_data"
    },
    {
     "name": "stdout",
     "output_type": "stream",
     "text": [
      "\n",
      "Epoch : 18, Cost : 171582.54973872344, time: 0:01:16.689359\n"
     ]
    },
    {
     "data": {
      "application/vnd.jupyter.widget-view+json": {
       "model_id": "0561b6aefd9a4121aa0ac70354756431",
       "version_major": 2,
       "version_minor": 0
      },
      "text/plain": [
       "HBox(children=(FloatProgress(value=0.0, max=20360.0), HTML(value='')))"
      ]
     },
     "metadata": {},
     "output_type": "display_data"
    },
    {
     "name": "stdout",
     "output_type": "stream",
     "text": [
      "\n",
      "Epoch : 19, Cost : 170896.62879082322, time: 0:01:21.140077\n"
     ]
    }
   ],
   "source": [
    "costs, W1, W2 = Model().train(vocab, sentences)"
   ]
  },
  {
   "cell_type": "code",
   "execution_count": 19,
   "metadata": {},
   "outputs": [
    {
     "data": {
      "image/png": "[encoded data removed]",
      "text/plain": [
       "<Figure size 1080x720 with 1 Axes>"
      ]
     },
     "metadata": {
      "needs_background": "light"
     },
     "output_type": "display_data"
    }
   ],
   "source": [
    "plt.figure(figsize=(15,10))\n",
    "plt.plot(costs)\n",
    "plt.title(\"Epoch vs Cost\")\n",
    "plt.xlabel(\"Epoch\")\n",
    "plt.ylabel(\"Costs\")\n",
    "plt.show()"
   ]
  },
  {
   "cell_type": "code",
   "execution_count": 20,
   "metadata": {},
   "outputs": [
    {
     "name": "stdout",
     "output_type": "stream",
     "text": [
      "shape of W1 : (20000, 100)\n",
      "shape of W2 : (100, 20000)\n"
     ]
    }
   ],
   "source": [
    "print(\"shape of W1 : {}\".format(W1.shape))\n",
    "print(\"shape of W2 : {}\".format(W2.shape))"
   ]
  },
  {
   "cell_type": "code",
   "execution_count": 21,
   "metadata": {},
   "outputs": [],
   "source": [
    "class Analogy:\n",
    "    def __init__(self):\n",
    "        pass\n",
    "    \n",
    "    def test_analogy(self, vocab, W1, W2):\n",
    "        \"\"\"\n",
    "        -------------------------------------------------\n",
    "        Description :\n",
    "        Function to test analogy of words using the embeddings trained on the wikipedia corpus\n",
    "\n",
    "        Input :\n",
    "        vocab -- a python dictionary representing word and it's index as key-value pair\n",
    "        W1 -- a numpy nd-array representing embedding created in the first layer\n",
    "        W2 -- a numpy nd-array representing embedding created in the second layer\n",
    "\n",
    "        Return :\n",
    "        None\n",
    "        --------------------------------------------------\n",
    "        \"\"\"\n",
    "\n",
    "        idx2word = {v:k for k,v in vocab.items()}\n",
    "\n",
    "        ### We will check analogy using the first layer embedding\n",
    "        ### and also using an average of the 1st and 2nd layer embedding matrices\n",
    "\n",
    "        for We in (W1, (W1 + W2.T) / 2, W2.T):\n",
    "            print(\"*\"*10)\n",
    "            self.analogy(\"king\", \"man\", \"queen\", \"woman\", vocab, idx2word, We)\n",
    "            self.analogy(\"king\", \"prince\", \"queen\", \"princess\", vocab, idx2word, We)\n",
    "            self.analogy(\"man\", \"woman\", \"he\", \"she\", vocab, idx2word, We)\n",
    "            self.analogy(\"man\", \"woman\", \"uncle\", \"aunt\", vocab, idx2word, We)\n",
    "            self.analogy(\"france\", \"paris\", \"japan\", \"tokyo\", vocab, idx2word, We)\n",
    "\n",
    "\n",
    "\n",
    "    def analogy(self, word1, word2, word3, word4, vocab, idx2word, We):\n",
    "        \"\"\"\n",
    "        ------------------------------------------\n",
    "        Description :\n",
    "        Function to derive analogies of word using the formula\n",
    "        word1 - word2 + word4 = word3 where we need to predict word2 and check with the function's input word3\n",
    "\n",
    "        Input :\n",
    "        word1 -- a python string representing a word\n",
    "        word2 -- a python string representing a word\n",
    "        word3 -- a python string representing a word\n",
    "        word4 -- a python string representing a word\n",
    "        vocab -- a python dictionary representing a word and it's index as key-value pair\n",
    "        idx2word -- a python dictionary representing index and word as key-value pair (reverse of vocab)\n",
    "        We -- a numpy nd-array representing the Word-Embedding matrix\n",
    "\n",
    "        Return :\n",
    "        None \n",
    "        -----------------------------------------\n",
    "        \"\"\"\n",
    "\n",
    "        V, D = We.shape\n",
    "\n",
    "        for w in (word1, word2, word3, word4):\n",
    "            if w not in vocab:\n",
    "                print(\"Oops!! I'vent learnt about this word. This is so wrong.....\")\n",
    "                return\n",
    "\n",
    "        v1 = We[vocab[word1]]\n",
    "        v2 = We[vocab[word2]]\n",
    "        v3 = We[vocab[word3]]\n",
    "        v4 = We[vocab[word4]]\n",
    "\n",
    "        pred = v1 - v2 + v4\n",
    "\n",
    "        distance = pairwise_distances(pred.reshape(1, D), We, metric='cosine').reshape(V)\n",
    "        idx = distance.argsort()[:10]\n",
    "        best_idx = -1\n",
    "        keep_out = [vocab[w] for w in (word1, word2, word4)]\n",
    "        for i in idx:\n",
    "            if i not in keep_out:\n",
    "                best_idx = i\n",
    "                break\n",
    "\n",
    "        print(\"Got {} - {} = {} - {}\".format(word1, word2, idx2word[best_idx], word4))\n",
    "\n",
    "\n"
   ]
  },
  {
   "cell_type": "code",
   "execution_count": 22,
   "metadata": {},
   "outputs": [
    {
     "name": "stdout",
     "output_type": "stream",
     "text": [
      "**********\n",
      "Got king - man = martin - woman\n",
      "Got king - prince = when - princess\n",
      "Got man - woman = singer - she\n",
      "Oops!! I'vent learnt about this word. This is so wrong.....\n",
      "Got france - paris = great - tokyo\n",
      "**********\n",
      "Got king - man = luther - woman\n",
      "Got king - prince = was - princess\n",
      "Got man - woman = married - she\n",
      "Oops!! I'vent learnt about this word. This is so wrong.....\n",
      "Got france - paris = republic - tokyo\n",
      "**********\n",
      "Got king - man = barack - woman\n",
      "Got king - prince = macbeth - princess\n",
      "Got man - woman = her - she\n",
      "Oops!! I'vent learnt about this word. This is so wrong.....\n",
      "Got france - paris = russia - tokyo\n"
     ]
    }
   ],
   "source": [
    "Analogy().test_analogy(vocab, W1, W2)"
   ]
  },
  {
   "cell_type": "code",
   "execution_count": null,
   "metadata": {},
   "outputs": [],
   "source": []
  }
 ],
 "metadata": {
  "kernelspec": {
   "display_name": "Python 3",
   "language": "python",
   "name": "python3"
  },
  "language_info": {
   "codemirror_mode": {
    "name": "ipython",
    "version": 3
   },
   "file_extension": ".py",
   "mimetype": "text/x-python",
   "name": "python",
   "nbconvert_exporter": "python",
   "pygments_lexer": "ipython3",
   "version": "3.7.7"
  }
 },
 "nbformat": 4,
 "nbformat_minor": 4
}
